{
 "cells": [
  {
   "cell_type": "code",
   "execution_count": 12,
   "metadata": {},
   "outputs": [],
   "source": [
    "# undulation path y= A x sin (((2 x pi)/y) x ( x + vw x t))\n",
    "#vw=fy, vx=nf, n=0.54+-0.12 (loose), n=0.49+-0.09 (closely), n=vx/vw...n=vx/y\n",
    "#A => b e^-(kx/a) ,a amplitude change"
   ]
  },
  {
   "cell_type": "code",
   "execution_count": 13,
   "metadata": {},
   "outputs": [
    {
     "name": "stdout",
     "output_type": "stream",
     "text": [
      "Warning: Cannot change to a different GUI toolkit: notebook. Using tk instead.\n"
     ]
    }
   ],
   "source": [
    "%matplotlib notebook\n",
    "import numpy as np\n",
    "from matplotlib import pyplot as plt\n",
    "import matplotlib.pylab as pl\n",
    "from IPython.display import Video\n",
    "from celluloid import Camera\n",
    "import matplotlib.animation as animation"
   ]
  },
  {
   "cell_type": "code",
   "execution_count": 14,
   "metadata": {},
   "outputs": [],
   "source": [
    "fig, ax = plt.subplots()\n",
    "x=np.arange(0,10,0.01)\n",
    "t=x\n",
    "y=2\n",
    "n=0.52\n",
    "f=30\n",
    "vw=y/f\n",
    "vx=0.5\n",
    "k=(2*np.pi)/y\n",
    "a=np.arange(5,15,0.01)\n",
    "b=np.power(np.e,((k*x)/a))\n",
    "yy=a*np.sin(((2*np.pi)*y)*(x+(vw*t)))\n",
    "line = ax.plot(t[0], yy[0])[0]"
   ]
  },
  {
   "cell_type": "code",
   "execution_count": 15,
   "metadata": {},
   "outputs": [],
   "source": [
    "def update(frame):\n",
    "    x = t[:frame]\n",
    "    z = yy[:frame]\n",
    "    # update the line plot:\n",
    "    line.set_xdata(t[:frame])\n",
    "    line.set_ydata(yy[:frame])\n",
    "    return (line)"
   ]
  },
  {
   "cell_type": "code",
   "execution_count": 16,
   "metadata": {},
   "outputs": [],
   "source": [
    "ani = animation.FuncAnimation(fig=fig, func=update, frames=40, interval=30)\n",
    "plt.show()"
   ]
  }
 ],
 "metadata": {
  "kernelspec": {
   "display_name": "tts_env",
   "language": "python",
   "name": "python3"
  },
  "language_info": {
   "codemirror_mode": {
    "name": "ipython",
    "version": 3
   },
   "file_extension": ".py",
   "mimetype": "text/x-python",
   "name": "python",
   "nbconvert_exporter": "python",
   "pygments_lexer": "ipython3",
   "version": "3.8.13"
  },
  "orig_nbformat": 4
 },
 "nbformat": 4,
 "nbformat_minor": 2
}
